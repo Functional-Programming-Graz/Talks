{
 "cells": [
  {
   "cell_type": "markdown",
   "metadata": {},
   "source": [
    "# General Features of the Type System\n",
    "\n"
   ]
  },
  {
   "cell_type": "markdown",
   "metadata": {},
   "source": [
    "## Dynamic\n",
    "\n",
    "Types are properties of values, not of variables"
   ]
  },
  {
   "cell_type": "code",
   "execution_count": 1,
   "metadata": {
    "collapsed": false
   },
   "outputs": [
    {
     "name": "stdout",
     "output_type": "stream",
     "text": [
      "Int64\n",
      "String\n"
     ]
    }
   ],
   "source": [
    "x = 1\n",
    "println(typeof(x))\n",
    "x = \"asl;kdf\"\n",
    "println(typeof(x))"
   ]
  },
  {
   "cell_type": "markdown",
   "metadata": {},
   "source": [
    "## Strong and Nominal\n",
    "\n",
    "The subtyping relation is quite strict, and not based on structure, but on explicitely declared \"inheritance\". "
   ]
  },
  {
   "cell_type": "code",
   "execution_count": 2,
   "metadata": {
    "collapsed": false
   },
   "outputs": [],
   "source": [
    "abstract A\n",
    "type B <: A\n",
    "    foo :: Int\n",
    "end\n",
    "\n",
    "type LikeB\n",
    "    foo :: Int\n",
    "end"
   ]
  },
  {
   "cell_type": "code",
   "execution_count": 3,
   "metadata": {
    "collapsed": false
   },
   "outputs": [
    {
     "data": {
      "text/plain": [
       "false"
      ]
     },
     "execution_count": 3,
     "metadata": {},
     "output_type": "execute_result"
    }
   ],
   "source": [
    "LikeB <: B"
   ]
  },
  {
   "cell_type": "code",
   "execution_count": 4,
   "metadata": {
    "collapsed": false
   },
   "outputs": [
    {
     "data": {
      "text/plain": [
       "true"
      ]
     },
     "execution_count": 4,
     "metadata": {},
     "output_type": "execute_result"
    }
   ],
   "source": [
    "isa(B(52), B)"
   ]
  },
  {
   "cell_type": "code",
   "execution_count": 5,
   "metadata": {
    "collapsed": false
   },
   "outputs": [
    {
     "data": {
      "text/plain": [
       "false"
      ]
     },
     "execution_count": 5,
     "metadata": {},
     "output_type": "execute_result"
    }
   ],
   "source": [
    "isa(LikeB(52), B)"
   ]
  },
  {
   "cell_type": "code",
   "execution_count": 6,
   "metadata": {
    "collapsed": false
   },
   "outputs": [
    {
     "name": "stdout",
     "output_type": "stream",
     "text": [
      "foo: 52\n"
     ]
    },
    {
     "ename": "LoadError",
     "evalue": "LoadError: MethodError: no method matching printFoo(::LikeB)\nClosest candidates are:\n  printFoo(!Matched::B) at In[6]:2\nwhile loading In[6], in expression starting on line 6",
     "output_type": "error",
     "traceback": [
      "LoadError: MethodError: no method matching printFoo(::LikeB)\nClosest candidates are:\n  printFoo(!Matched::B) at In[6]:2\nwhile loading In[6], in expression starting on line 6",
      ""
     ]
    }
   ],
   "source": [
    "function printFoo(b::B)\n",
    "    println(\"foo: $(b.foo)\")\n",
    "end\n",
    "\n",
    "printFoo(B(52))\n",
    "printFoo(LikeB(52))"
   ]
  },
  {
   "cell_type": "code",
   "execution_count": 7,
   "metadata": {
    "collapsed": false
   },
   "outputs": [
    {
     "name": "stdout",
     "output_type": "stream",
     "text": [
      "foo: 52, of type B\n",
      "foo: 52, of type LikeB\n"
     ]
    }
   ],
   "source": [
    "function printAnyFoo(a_with_foo)\n",
    "    println(\"foo: $(a_with_foo.foo), of type $(typeof(a_with_foo))\")\n",
    "end\n",
    "\n",
    "printAnyFoo(B(52))\n",
    "printAnyFoo(LikeB(52))"
   ]
  },
  {
   "cell_type": "markdown",
   "metadata": {},
   "source": [
    "There are abstract types, which are the only way to define a hierarchy:"
   ]
  },
  {
   "cell_type": "code",
   "execution_count": 8,
   "metadata": {
    "collapsed": false
   },
   "outputs": [
    {
     "data": {
      "text/plain": [
       "true"
      ]
     },
     "execution_count": 8,
     "metadata": {},
     "output_type": "execute_result"
    }
   ],
   "source": [
    "Signed <: Integer <: Real <: Number"
   ]
  },
  {
   "cell_type": "markdown",
   "metadata": {},
   "source": [
    "## Parametric\n",
    "\n",
    "Types and methods can have type parameters, which can be constrained."
   ]
  },
  {
   "cell_type": "code",
   "execution_count": 9,
   "metadata": {
    "collapsed": false
   },
   "outputs": [
    {
     "data": {
      "text/plain": [
       "dot (generic function with 1 method)"
      ]
     },
     "execution_count": 9,
     "metadata": {},
     "output_type": "execute_result"
    }
   ],
   "source": [
    "function dot{T <: Number}(v::Vector{T}, w::Vector{T})\n",
    "    return sum(v .* w)\n",
    "end"
   ]
  },
  {
   "cell_type": "raw",
   "metadata": {},
   "source": [
    "dot([1,2,3], [10, 20, 30])"
   ]
  },
  {
   "cell_type": "code",
   "execution_count": 10,
   "metadata": {
    "collapsed": false,
    "scrolled": true
   },
   "outputs": [
    {
     "data": {
      "text/plain": [
       "1//8"
      ]
     },
     "execution_count": 10,
     "metadata": {},
     "output_type": "execute_result"
    }
   ],
   "source": [
    "dot([1//2], [1//4])"
   ]
  },
  {
   "cell_type": "code",
   "execution_count": 11,
   "metadata": {
    "collapsed": false
   },
   "outputs": [
    {
     "ename": "LoadError",
     "evalue": "LoadError: MethodError: no method matching dot(::Array{Rational{Int64},1}, ::Array{Float64,1})\nyou may have intended to import Base.dot\nClosest candidates are:\n  dot{T<:Number}(::Array{T<:Number,1}, !Matched::Array{T<:Number,1}) at In[9]:2\nwhile loading In[11], in expression starting on line 1",
     "output_type": "error",
     "traceback": [
      "LoadError: MethodError: no method matching dot(::Array{Rational{Int64},1}, ::Array{Float64,1})\nyou may have intended to import Base.dot\nClosest candidates are:\n  dot{T<:Number}(::Array{T<:Number,1}, !Matched::Array{T<:Number,1}) at In[9]:2\nwhile loading In[11], in expression starting on line 1",
      ""
     ]
    }
   ],
   "source": [
    "dot([1//2], [0.25])"
   ]
  },
  {
   "cell_type": "markdown",
   "metadata": {},
   "source": [
    "# Bits types\n",
    "\n",
    "Are used to declare explicit storage size."
   ]
  },
  {
   "cell_type": "code",
   "execution_count": 12,
   "metadata": {
    "collapsed": false
   },
   "outputs": [],
   "source": [
    "bitstype 8 ASCII"
   ]
  },
  {
   "cell_type": "code",
   "execution_count": 13,
   "metadata": {
    "collapsed": false
   },
   "outputs": [
    {
     "data": {
      "text/plain": [
       "ASCII(0x28)"
      ]
     },
     "execution_count": 13,
     "metadata": {},
     "output_type": "execute_result"
    }
   ],
   "source": [
    "reinterpret(ASCII, UInt8(40))"
   ]
  },
  {
   "cell_type": "markdown",
   "metadata": {},
   "source": [
    "# Type Hierarchy/Properties"
   ]
  },
  {
   "cell_type": "code",
   "execution_count": 14,
   "metadata": {
    "collapsed": false
   },
   "outputs": [
    {
     "data": {
      "text/plain": [
       "true"
      ]
     },
     "execution_count": 14,
     "metadata": {},
     "output_type": "execute_result"
    }
   ],
   "source": [
    "Union{} <: Int32 <: Any"
   ]
  },
  {
   "cell_type": "code",
   "execution_count": 15,
   "metadata": {
    "collapsed": false
   },
   "outputs": [
    {
     "data": {
      "text/plain": [
       "true"
      ]
     },
     "execution_count": 15,
     "metadata": {},
     "output_type": "execute_result"
    }
   ],
   "source": [
    "typealias Strange Union{Int, String}\n",
    "Int <: Strange && String <: Strange"
   ]
  },
  {
   "cell_type": "code",
   "execution_count": 16,
   "metadata": {
    "collapsed": false
   },
   "outputs": [
    {
     "data": {
      "text/plain": [
       "Any"
      ]
     },
     "execution_count": 16,
     "metadata": {},
     "output_type": "execute_result"
    }
   ],
   "source": [
    "typejoin(Int, String)"
   ]
  },
  {
   "cell_type": "code",
   "execution_count": 17,
   "metadata": {
    "collapsed": false
   },
   "outputs": [
    {
     "data": {
      "text/plain": [
       "Unsigned"
      ]
     },
     "execution_count": 17,
     "metadata": {},
     "output_type": "execute_result"
    }
   ],
   "source": [
    "typejoin(UInt32, UInt16)"
   ]
  },
  {
   "cell_type": "code",
   "execution_count": 18,
   "metadata": {
    "collapsed": false
   },
   "outputs": [
    {
     "data": {
      "text/plain": [
       "Union{}"
      ]
     },
     "execution_count": 18,
     "metadata": {},
     "output_type": "execute_result"
    }
   ],
   "source": [
    "typeintersect(Signed, Unsigned)"
   ]
  },
  {
   "cell_type": "markdown",
   "metadata": {},
   "source": [
    "# Multimethods\n",
    "\n",
    "\"Methods\" are associated with _functions_, not objects. This allows dynamic dispatch on the runtime type of multiple types (all arguments of a function), not just one special one (ie., `this`)."
   ]
  },
  {
   "cell_type": "code",
   "execution_count": 19,
   "metadata": {
    "collapsed": false
   },
   "outputs": [
    {
     "name": "stdout",
     "output_type": "stream",
     "text": [
      "Bred new liger!\n"
     ]
    }
   ],
   "source": [
    "abstract Animal\n",
    "immutable Tiger <: Animal end\n",
    "immutable Lion <: Animal end\n",
    "\n",
    "function breed(t1::Tiger, t2::Tiger)\n",
    "    println(\"Bred new tiger!\")\n",
    "end\n",
    "\n",
    "function breed(l1::Lion, l2::Lion)\n",
    "    println(\"Bred new lion!\")\n",
    "end \n",
    "\n",
    "function breed(t::Tiger, l::Lion)\n",
    "    println(\"Bred new tion!\")\n",
    "end\n",
    "\n",
    "function breed(l::Lion, t::Tiger)\n",
    "    println(\"Bred new liger!\")\n",
    "end \n",
    "\n",
    "a = Lion()\n",
    "b = Tiger()\n",
    "\n",
    "breed(a, b)"
   ]
  },
  {
   "cell_type": "markdown",
   "metadata": {},
   "source": [
    "This is used a lot for specialization of code based on specific types, a very practical thing for efficient numerical computing."
   ]
  },
  {
   "cell_type": "code",
   "execution_count": 20,
   "metadata": {
    "collapsed": false
   },
   "outputs": [
    {
     "data": {
      "text/html": [
       "35 methods for generic function <b>.*</b>:<ul><li> .*(x::<b>Bool</b>, B::<b>BitArray</b>) at <a href=\"https://github.com/JuliaLang/julia/tree/3c9d75391c72d7c32eea75ff187ce77b2d5effc8/base/bitarray.jl#L1250\" target=\"_blank\">bitarray.jl:1250</a></li> <li> .*(x::<b>BitArray{1}</b>, y::<b>AbstractSparseArray{Bool,Ti<:Any,1}</b>) at <a href=\"https://github.com/JuliaLang/julia/tree/3c9d75391c72d7c32eea75ff187ce77b2d5effc8/base/sparse/sparsevector.jl#L1170\" target=\"_blank\">sparse/sparsevector.jl:1170</a></li> <li> .*(x::<b>Real</b>, r::<b>OrdinalRange</b>) at <a href=\"https://github.com/JuliaLang/julia/tree/3c9d75391c72d7c32eea75ff187ce77b2d5effc8/base/range.jl#L724\" target=\"_blank\">range.jl:724</a></li> <li> .*(x::<b>Real</b>, r::<b>FloatRange</b>) at <a href=\"https://github.com/JuliaLang/julia/tree/3c9d75391c72d7c32eea75ff187ce77b2d5effc8/base/range.jl#L725\" target=\"_blank\">range.jl:725</a></li> <li> .*(x::<b>Real</b>, r::<b>LinSpace</b>) at <a href=\"https://github.com/JuliaLang/julia/tree/3c9d75391c72d7c32eea75ff187ce77b2d5effc8/base/range.jl#L726\" target=\"_blank\">range.jl:726</a></li> <li> .*(r::<b>FloatRange</b>, x::<b>Real</b>) at <a href=\"https://github.com/JuliaLang/julia/tree/3c9d75391c72d7c32eea75ff187ce77b2d5effc8/base/range.jl#L728\" target=\"_blank\">range.jl:728</a></li> <li> .*(r::<b>LinSpace</b>, x::<b>Real</b>) at <a href=\"https://github.com/JuliaLang/julia/tree/3c9d75391c72d7c32eea75ff187ce77b2d5effc8/base/range.jl#L729\" target=\"_blank\">range.jl:729</a></li> <li> .*(r::<b>Range</b>, x::<b>Real</b>) at <a href=\"https://github.com/JuliaLang/julia/tree/3c9d75391c72d7c32eea75ff187ce77b2d5effc8/base/range.jl#L727\" target=\"_blank\">range.jl:727</a></li> <li> .*(x::<b>Number</b>, r::<b>Range</b>) at <a href=\"https://github.com/JuliaLang/julia/tree/3c9d75391c72d7c32eea75ff187ce77b2d5effc8/base/range.jl#L806\" target=\"_blank\">range.jl:806</a></li> <li> .*(r::<b>Range</b>, y::<b>Number</b>) at <a href=\"https://github.com/JuliaLang/julia/tree/3c9d75391c72d7c32eea75ff187ce77b2d5effc8/base/range.jl#L807\" target=\"_blank\">range.jl:807</a></li> <li> .*(x::<b>Number</b>, y::<b>Number</b>) at <a href=\"https://github.com/JuliaLang/julia/tree/3c9d75391c72d7c32eea75ff187ce77b2d5effc8/base/operators.jl#L150\" target=\"_blank\">operators.jl:150</a></li> <li> .*(x::<b>Number</b>, B::<b>BitArray</b>) at <a href=\"https://github.com/JuliaLang/julia/tree/3c9d75391c72d7c32eea75ff187ce77b2d5effc8/base/bitarray.jl#L1252\" target=\"_blank\">bitarray.jl:1252</a></li> <li> .*<i>{P<:Base.Dates.Period}</i>(y::<b>Real</b>, X::<b>Union{Base.ReshapedArray{P,N<:Any,A<:DenseArray,MI<:Tuple{Vararg{Base.MultiplicativeInverses.SignedMultiplicativeInverse{Int64},N<:Any}}},DenseArray{P,N<:Any},SubArray{P,N<:Any,A<:Union{Base.ReshapedArray{T<:Any,N<:Any,A<:DenseArray,MI<:Tuple{Vararg{Base.MultiplicativeInverses.SignedMultiplicativeInverse{Int64},N<:Any}}},DenseArray},I<:Tuple{Vararg{Union{Base.AbstractCartesianIndex,Colon,Int64,Range{Int64}},N<:Any}},L<:Any}}</b>) at <a href=\"https://github.com/JuliaLang/julia/tree/3c9d75391c72d7c32eea75ff187ce77b2d5effc8/base/dates/periods.jl#L91\" target=\"_blank\">dates/periods.jl:91</a></li> <li> .*(A::<b>Number</b>, B::<b>SparseMatrixCSC</b>) at <a href=\"https://github.com/JuliaLang/julia/tree/3c9d75391c72d7c32eea75ff187ce77b2d5effc8/base/sparse/sparsematrix.jl#L1720\" target=\"_blank\">sparse/sparsematrix.jl:1720</a></li> <li> .*(a::<b>Number</b>, x::<b>AbstractSparseArray{Tv<:Any,Ti<:Any,1}</b>) at <a href=\"https://github.com/JuliaLang/julia/tree/3c9d75391c72d7c32eea75ff187ce77b2d5effc8/base/sparse/sparsevector.jl#L1288\" target=\"_blank\">sparse/sparsevector.jl:1288</a></li> <li> .*<i>{T}</i>(A::<b>Number</b>, B::<b>AbstractArray{T,N<:Any}</b>) at <a href=\"https://github.com/JuliaLang/julia/tree/3c9d75391c72d7c32eea75ff187ce77b2d5effc8/base/arraymath.jl#L67\" target=\"_blank\">arraymath.jl:67</a></li> <li> .*(B::<b>BitArray</b>, x::<b>Bool</b>) at <a href=\"https://github.com/JuliaLang/julia/tree/3c9d75391c72d7c32eea75ff187ce77b2d5effc8/base/bitarray.jl#L1251\" target=\"_blank\">bitarray.jl:1251</a></li> <li> .*(B::<b>BitArray</b>, x::<b>Number</b>) at <a href=\"https://github.com/JuliaLang/julia/tree/3c9d75391c72d7c32eea75ff187ce77b2d5effc8/base/bitarray.jl#L1253\" target=\"_blank\">bitarray.jl:1253</a></li> <li> .*<i>{P<:Base.Dates.Period}</i>(X::<b>Union{Base.ReshapedArray{P,N<:Any,A<:DenseArray,MI<:Tuple{Vararg{Base.MultiplicativeInverses.SignedMultiplicativeInverse{Int64},N<:Any}}},DenseArray{P,N<:Any},SubArray{P,N<:Any,A<:Union{Base.ReshapedArray{T<:Any,N<:Any,A<:DenseArray,MI<:Tuple{Vararg{Base.MultiplicativeInverses.SignedMultiplicativeInverse{Int64},N<:Any}}},DenseArray},I<:Tuple{Vararg{Union{Base.AbstractCartesianIndex,Colon,Int64,Range{Int64}},N<:Any}},L<:Any}}</b>, y::<b>Real</b>) at <a href=\"https://github.com/JuliaLang/julia/tree/3c9d75391c72d7c32eea75ff187ce77b2d5effc8/base/dates/periods.jl#L101\" target=\"_blank\">dates/periods.jl:101</a></li> <li> .*(A::<b>SparseMatrixCSC</b>, B::<b>Number</b>) at <a href=\"https://github.com/JuliaLang/julia/tree/3c9d75391c72d7c32eea75ff187ce77b2d5effc8/base/sparse/sparsematrix.jl#L1719\" target=\"_blank\">sparse/sparsematrix.jl:1719</a></li> <li> .*(x::<b>AbstractSparseArray{Tv<:Any,Ti<:Any,1}</b>, a::<b>Number</b>) at <a href=\"https://github.com/JuliaLang/julia/tree/3c9d75391c72d7c32eea75ff187ce77b2d5effc8/base/sparse/sparsevector.jl#L1287\" target=\"_blank\">sparse/sparsevector.jl:1287</a></li> <li> .*<i>{T}</i>(A::<b>AbstractArray{T,N<:Any}</b>, B::<b>Number</b>) at <a href=\"https://github.com/JuliaLang/julia/tree/3c9d75391c72d7c32eea75ff187ce77b2d5effc8/base/arraymath.jl#L77\" target=\"_blank\">arraymath.jl:77</a></li> <li> .*<i>{T<:AbstractString}</i>(v::<b>Array{T,1}</b>, s::<b>AbstractString</b>) at <a href=\"https://github.com/JuliaLang/julia/tree/3c9d75391c72d7c32eea75ff187ce77b2d5effc8/base/strings/basic.jl#L85\" target=\"_blank\">strings/basic.jl:85</a></li> <li> .*<i>{T<:AbstractString}</i>(s::<b>AbstractString</b>, v::<b>Array{T,1}</b>) at <a href=\"https://github.com/JuliaLang/julia/tree/3c9d75391c72d7c32eea75ff187ce77b2d5effc8/base/strings/basic.jl#L86\" target=\"_blank\">strings/basic.jl:86</a></li> <li> .*(x::<b>Number</b>, J::<b>UniformScaling</b>) at <a href=\"https://github.com/JuliaLang/julia/tree/3c9d75391c72d7c32eea75ff187ce77b2d5effc8/base/linalg/uniformscaling.jl#L152\" target=\"_blank\">linalg/uniformscaling.jl:152</a></li> <li> .*(J::<b>UniformScaling</b>, x::<b>Number</b>) at <a href=\"https://github.com/JuliaLang/julia/tree/3c9d75391c72d7c32eea75ff187ce77b2d5effc8/base/linalg/uniformscaling.jl#L153\" target=\"_blank\">linalg/uniformscaling.jl:153</a></li> <li> .*(A::<b>BitArray</b>, B::<b>BitArray</b>) at <a href=\"https://github.com/JuliaLang/julia/tree/3c9d75391c72d7c32eea75ff187ce77b2d5effc8/base/broadcast.jl#L432\" target=\"_blank\">broadcast.jl:432</a></li> <li> .*(x::<b>AbstractSparseArray{Bool,Ti<:Any,1}</b>, y::<b>BitArray{1}</b>) at <a href=\"https://github.com/JuliaLang/julia/tree/3c9d75391c72d7c32eea75ff187ce77b2d5effc8/base/sparse/sparsevector.jl#L1171\" target=\"_blank\">sparse/sparsevector.jl:1171</a></li> <li> .*(A::<b>AbstractArray{Bool,N<:Any}</b>, B::<b>BitArray</b>) at <a href=\"https://github.com/JuliaLang/julia/tree/3c9d75391c72d7c32eea75ff187ce77b2d5effc8/base/broadcast.jl#L432\" target=\"_blank\">broadcast.jl:432</a></li> <li> .*(A::<b>BitArray</b>, B::<b>AbstractArray{Bool,N<:Any}</b>) at <a href=\"https://github.com/JuliaLang/julia/tree/3c9d75391c72d7c32eea75ff187ce77b2d5effc8/base/broadcast.jl#L432\" target=\"_blank\">broadcast.jl:432</a></li> <li> .*(x::<b>AbstractSparseArray{Tv<:Any,Ti<:Any,1}</b>, y::<b>AbstractSparseArray{Tv<:Any,Ti<:Any,1}</b>) at <a href=\"https://github.com/JuliaLang/julia/tree/3c9d75391c72d7c32eea75ff187ce77b2d5effc8/base/sparse/sparsevector.jl#L1179\" target=\"_blank\">sparse/sparsevector.jl:1179</a></li> <li> .*(x::<b>Union{Base.ReshapedArray{T<:Any,1,A<:DenseArray,MI<:Tuple{Vararg{Base.MultiplicativeInverses.SignedMultiplicativeInverse{Int64},N<:Any}}},DenseArray{T<:Any,1},SubArray{T<:Any,1,A<:Union{Base.ReshapedArray{T<:Any,N<:Any,A<:DenseArray,MI<:Tuple{Vararg{Base.MultiplicativeInverses.SignedMultiplicativeInverse{Int64},N<:Any}}},DenseArray},I<:Tuple{Vararg{Union{Base.AbstractCartesianIndex,Colon,Int64,Range{Int64}},N<:Any}},L<:Any}}</b>, y::<b>AbstractSparseArray{Tv<:Any,Ti<:Any,1}</b>) at <a href=\"https://github.com/JuliaLang/julia/tree/3c9d75391c72d7c32eea75ff187ce77b2d5effc8/base/sparse/sparsevector.jl#L1180\" target=\"_blank\">sparse/sparsevector.jl:1180</a></li> <li> .*(x::<b>AbstractSparseArray{Tv<:Any,Ti<:Any,1}</b>, y::<b>Union{Base.ReshapedArray{T<:Any,1,A<:DenseArray,MI<:Tuple{Vararg{Base.MultiplicativeInverses.SignedMultiplicativeInverse{Int64},N<:Any}}},DenseArray{T<:Any,1},SubArray{T<:Any,1,A<:Union{Base.ReshapedArray{T<:Any,N<:Any,A<:DenseArray,MI<:Tuple{Vararg{Base.MultiplicativeInverses.SignedMultiplicativeInverse{Int64},N<:Any}}},DenseArray},I<:Tuple{Vararg{Union{Base.AbstractCartesianIndex,Colon,Int64,Range{Int64}},N<:Any}},L<:Any}}</b>) at <a href=\"https://github.com/JuliaLang/julia/tree/3c9d75391c72d7c32eea75ff187ce77b2d5effc8/base/sparse/sparsevector.jl#L1181\" target=\"_blank\">sparse/sparsevector.jl:1181</a></li> <li> .*(A::<b>AbstractArray</b>, B::<b>AbstractArray</b>) at <a href=\"https://github.com/JuliaLang/julia/tree/3c9d75391c72d7c32eea75ff187ce77b2d5effc8/base/sparse/sparsematrix.jl#L1718\" target=\"_blank\">sparse/sparsematrix.jl:1718</a></li> <li> .*(As::<b>AbstractArray...</b>) at <a href=\"https://github.com/JuliaLang/julia/tree/3c9d75391c72d7c32eea75ff187ce77b2d5effc8/base/broadcast.jl#L305\" target=\"_blank\">broadcast.jl:305</a></li> </ul>"
      ],
      "text/plain": [
       "# 35 methods for generic function \".*\":\n",
       ".*(x::Bool, B::BitArray) at bitarray.jl:1250\n",
       ".*(x::BitArray{1}, y::AbstractSparseArray{Bool,Ti<:Any,1}) at sparse/sparsevector.jl:1170\n",
       ".*(x::Real, r::OrdinalRange) at range.jl:724\n",
       ".*(x::Real, r::FloatRange) at range.jl:725\n",
       ".*(x::Real, r::LinSpace) at range.jl:726\n",
       ".*(r::FloatRange, x::Real) at range.jl:728\n",
       ".*(r::LinSpace, x::Real) at range.jl:729\n",
       ".*(r::Range, x::Real) at range.jl:727\n",
       ".*(x::Number, r::Range) at range.jl:806\n",
       ".*(r::Range, y::Number) at range.jl:807\n",
       ".*(x::Number, y::Number) at operators.jl:150\n",
       ".*(x::Number, B::BitArray) at bitarray.jl:1252\n",
       ".*{P<:Base.Dates.Period}(y::Real, X::Union{Base.ReshapedArray{P,N<:Any,A<:DenseArray,MI<:Tuple{Vararg{Base.MultiplicativeInverses.SignedMultiplicativeInverse{Int64},N<:Any}}},DenseArray{P,N<:Any},SubArray{P,N<:Any,A<:Union{Base.ReshapedArray{T<:Any,N<:Any,A<:DenseArray,MI<:Tuple{Vararg{Base.MultiplicativeInverses.SignedMultiplicativeInverse{Int64},N<:Any}}},DenseArray},I<:Tuple{Vararg{Union{Base.AbstractCartesianIndex,Colon,Int64,Range{Int64}},N<:Any}},L<:Any}}) at dates/periods.jl:91\n",
       ".*(A::Number, B::SparseMatrixCSC) at sparse/sparsematrix.jl:1720\n",
       ".*(a::Number, x::AbstractSparseArray{Tv<:Any,Ti<:Any,1}) at sparse/sparsevector.jl:1288\n",
       ".*{T}(A::Number, B::AbstractArray{T,N<:Any}) at arraymath.jl:67\n",
       ".*(B::BitArray, x::Bool) at bitarray.jl:1251\n",
       ".*(B::BitArray, x::Number) at bitarray.jl:1253\n",
       ".*{P<:Base.Dates.Period}(X::Union{Base.ReshapedArray{P,N<:Any,A<:DenseArray,MI<:Tuple{Vararg{Base.MultiplicativeInverses.SignedMultiplicativeInverse{Int64},N<:Any}}},DenseArray{P,N<:Any},SubArray{P,N<:Any,A<:Union{Base.ReshapedArray{T<:Any,N<:Any,A<:DenseArray,MI<:Tuple{Vararg{Base.MultiplicativeInverses.SignedMultiplicativeInverse{Int64},N<:Any}}},DenseArray},I<:Tuple{Vararg{Union{Base.AbstractCartesianIndex,Colon,Int64,Range{Int64}},N<:Any}},L<:Any}}, y::Real) at dates/periods.jl:101\n",
       ".*(A::SparseMatrixCSC, B::Number) at sparse/sparsematrix.jl:1719\n",
       ".*(x::AbstractSparseArray{Tv<:Any,Ti<:Any,1}, a::Number) at sparse/sparsevector.jl:1287\n",
       ".*{T}(A::AbstractArray{T,N<:Any}, B::Number) at arraymath.jl:77\n",
       ".*{T<:AbstractString}(v::Array{T,1}, s::AbstractString) at strings/basic.jl:85\n",
       ".*{T<:AbstractString}(s::AbstractString, v::Array{T,1}) at strings/basic.jl:86\n",
       ".*(x::Number, J::UniformScaling) at linalg/uniformscaling.jl:152\n",
       ".*(J::UniformScaling, x::Number) at linalg/uniformscaling.jl:153\n",
       ".*(A::BitArray, B::BitArray) at broadcast.jl:432\n",
       ".*(x::AbstractSparseArray{Bool,Ti<:Any,1}, y::BitArray{1}) at sparse/sparsevector.jl:1171\n",
       ".*(A::AbstractArray{Bool,N<:Any}, B::BitArray) at broadcast.jl:432\n",
       ".*(A::BitArray, B::AbstractArray{Bool,N<:Any}) at broadcast.jl:432\n",
       ".*(x::AbstractSparseArray{Tv<:Any,Ti<:Any,1}, y::AbstractSparseArray{Tv<:Any,Ti<:Any,1}) at sparse/sparsevector.jl:1179\n",
       ".*(x::Union{Base.ReshapedArray{T<:Any,1,A<:DenseArray,MI<:Tuple{Vararg{Base.MultiplicativeInverses.SignedMultiplicativeInverse{Int64},N<:Any}}},DenseArray{T<:Any,1},SubArray{T<:Any,1,A<:Union{Base.ReshapedArray{T<:Any,N<:Any,A<:DenseArray,MI<:Tuple{Vararg{Base.MultiplicativeInverses.SignedMultiplicativeInverse{Int64},N<:Any}}},DenseArray},I<:Tuple{Vararg{Union{Base.AbstractCartesianIndex,Colon,Int64,Range{Int64}},N<:Any}},L<:Any}}, y::AbstractSparseArray{Tv<:Any,Ti<:Any,1}) at sparse/sparsevector.jl:1180\n",
       ".*(x::AbstractSparseArray{Tv<:Any,Ti<:Any,1}, y::Union{Base.ReshapedArray{T<:Any,1,A<:DenseArray,MI<:Tuple{Vararg{Base.MultiplicativeInverses.SignedMultiplicativeInverse{Int64},N<:Any}}},DenseArray{T<:Any,1},SubArray{T<:Any,1,A<:Union{Base.ReshapedArray{T<:Any,N<:Any,A<:DenseArray,MI<:Tuple{Vararg{Base.MultiplicativeInverses.SignedMultiplicativeInverse{Int64},N<:Any}}},DenseArray},I<:Tuple{Vararg{Union{Base.AbstractCartesianIndex,Colon,Int64,Range{Int64}},N<:Any}},L<:Any}}) at sparse/sparsevector.jl:1181\n",
       ".*(A::AbstractArray, B::AbstractArray) at sparse/sparsematrix.jl:1718\n",
       ".*(As::AbstractArray...) at broadcast.jl:305"
      ]
     },
     "execution_count": 20,
     "metadata": {},
     "output_type": "execute_result"
    }
   ],
   "source": [
    "methods(.*)"
   ]
  },
  {
   "cell_type": "markdown",
   "metadata": {},
   "source": [
    "Now, this would seem like we then have to implement quadratically many methods -- but no! There's a built-in mechanism of conversion and promotion, based on multimethods. Consider, for example, [these methods](http://docs.julialang.org/en/release-0.5/manual/conversion-and-promotion/#case-study-rational-conversions) for `Rational`:"
   ]
  },
  {
   "cell_type": "code",
   "execution_count": 21,
   "metadata": {
    "collapsed": false
   },
   "outputs": [
    {
     "data": {
      "text/plain": [
       "convert (generic function with 6 methods)"
      ]
     },
     "execution_count": 21,
     "metadata": {},
     "output_type": "execute_result"
    }
   ],
   "source": [
    "convert{T<:Integer}(::Type{Rational{T}}, x::Rational) = Rational(convert(T,x.num),convert(T,x.den))\n",
    "convert{T<:Integer}(::Type{Rational{T}}, x::Integer) = Rational(convert(T,x), convert(T,1))\n",
    "\n",
    "function convert{T<:Integer}(::Type{Rational{T}}, x::AbstractFloat, tol::Real)\n",
    "    if isnan(x); return zero(T)//zero(T); end\n",
    "    if isinf(x); return sign(x)//zero(T); end\n",
    "    y = x\n",
    "    a = d = one(T)\n",
    "    b = c = zero(T)\n",
    "    while true\n",
    "        f = convert(T,round(y)); y -= f\n",
    "        a, b, c, d = f*a+c, f*b+d, a, b\n",
    "        if y == 0 || abs(a/b-x) <= tol\n",
    "            return a//b\n",
    "        end\n",
    "        y = 1/y\n",
    "    end\n",
    "end\n",
    "convert{T<:Integer}(rt::Type{Rational{T}}, x::AbstractFloat) = convert(rt,x,eps(x))\n",
    "\n",
    "convert{T<:AbstractFloat}(::Type{T}, x::Rational) = convert(T,x.num)/convert(T,x.den)\n",
    "convert{T<:Integer}(::Type{T}, x::Rational) = div(convert(T,x.num),convert(T,x.den))"
   ]
  },
  {
   "cell_type": "code",
   "execution_count": 22,
   "metadata": {
    "collapsed": false
   },
   "outputs": [
    {
     "name": "stdout",
     "output_type": "stream",
     "text": [
      "(Complex{Int64},Rational{Int64})\n",
      "(1//1 + 2//1*im,3//4 + 0//1*im)Tuple{Complex{Rational{Int64}},Complex{Rational{Int64}}}\n"
     ]
    }
   ],
   "source": [
    "a = 1 + 2im\n",
    "b = 3//4\n",
    "println((typeof(a), typeof(b)))\n",
    "\n",
    "c = promote(a, b)\n",
    "println(c, typeof(c))"
   ]
  },
  {
   "cell_type": "markdown",
   "metadata": {},
   "source": [
    "`promote` should not be overloaded directly -- instead, we can define _promote rules_ for tuples of types:"
   ]
  },
  {
   "cell_type": "code",
   "execution_count": 23,
   "metadata": {
    "collapsed": false
   },
   "outputs": [
    {
     "data": {
      "text/plain": [
       "promote_rule (generic function with 2 methods)"
      ]
     },
     "execution_count": 23,
     "metadata": {},
     "output_type": "execute_result"
    }
   ],
   "source": [
    "promote_rule(::Type{UInt8}, ::Type{Int8}) = Int\n",
    "promote_rule(::Type{BigInt}, ::Type{Int8}) = BigInt"
   ]
  },
  {
   "cell_type": "markdown",
   "metadata": {},
   "source": [
    "# Things that I miss\n",
    "\n",
    "## Function types\n",
    "\n",
    "Unfortunately, function types are opaque -- there is only `Function`, which subsumes everthing. No `Function{X, Y}`."
   ]
  },
  {
   "cell_type": "code",
   "execution_count": 24,
   "metadata": {
    "collapsed": false
   },
   "outputs": [
    {
     "data": {
      "text/plain": [
       "#f"
      ]
     },
     "execution_count": 24,
     "metadata": {},
     "output_type": "execute_result"
    }
   ],
   "source": [
    "f(x::Int) = 2x + 1\n",
    "typeof(f)"
   ]
  },
  {
   "cell_type": "code",
   "execution_count": 25,
   "metadata": {
    "collapsed": false
   },
   "outputs": [
    {
     "data": {
      "text/plain": [
       "true"
      ]
     },
     "execution_count": 25,
     "metadata": {},
     "output_type": "execute_result"
    }
   ],
   "source": [
    "typeof(f) <: Function"
   ]
  },
  {
   "cell_type": "markdown",
   "metadata": {},
   "source": [
    "## Co/Contravariance of Type Constructors\n",
    "\n",
    "All types (except the built-in special case of `Tuple`) are invariant."
   ]
  },
  {
   "cell_type": "code",
   "execution_count": 26,
   "metadata": {
    "collapsed": false
   },
   "outputs": [
    {
     "data": {
      "text/plain": [
       "false"
      ]
     },
     "execution_count": 26,
     "metadata": {},
     "output_type": "execute_result"
    }
   ],
   "source": [
    "# we know: Int <: Number\n",
    "Array{Int} <: Array{Number}"
   ]
  },
  {
   "cell_type": "code",
   "execution_count": 27,
   "metadata": {
    "collapsed": false
   },
   "outputs": [
    {
     "data": {
      "text/plain": [
       "true"
      ]
     },
     "execution_count": 27,
     "metadata": {},
     "output_type": "execute_result"
    }
   ],
   "source": [
    "Tuple{Int, String} <: Tuple{Number, AbstractString}"
   ]
  },
  {
   "cell_type": "code",
   "execution_count": 28,
   "metadata": {
    "collapsed": false
   },
   "outputs": [
    {
     "name": "stdout",
     "output_type": "stream",
     "text": [
      "6\n"
     ]
    },
    {
     "ename": "LoadError",
     "evalue": "LoadError: MethodError: no method matching mysum(::Array{Int64,1})\nClosest candidates are:\n  mysum(!Matched::Array{Number,N}) at In[28]:2\nwhile loading In[28], in expression starting on line 6",
     "output_type": "error",
     "traceback": [
      "LoadError: MethodError: no method matching mysum(::Array{Int64,1})\nClosest candidates are:\n  mysum(!Matched::Array{Number,N}) at In[28]:2\nwhile loading In[28], in expression starting on line 6",
      ""
     ]
    }
   ],
   "source": [
    "function mysum(v::Array{Number})\n",
    "    return sum(v)\n",
    "end\n",
    "\n",
    "println(mysum(Number[1,2,3]))\n",
    "println(mysum([1,2,3]))"
   ]
  },
  {
   "cell_type": "code",
   "execution_count": 29,
   "metadata": {
    "collapsed": false
   },
   "outputs": [
    {
     "data": {
      "text/plain": [
       "mysum2 (generic function with 1 method)"
      ]
     },
     "execution_count": 29,
     "metadata": {},
     "output_type": "execute_result"
    }
   ],
   "source": [
    "# the usual workaround:\n",
    "function mysum2{T <: Number}(v::Array{T})\n",
    "    return sum(v)\n",
    "end"
   ]
  }
 ],
 "metadata": {
  "kernelspec": {
   "display_name": "Julia 0.5.0",
   "language": "julia",
   "name": "julia-0.5"
  },
  "language_info": {
   "file_extension": ".jl",
   "mimetype": "application/julia",
   "name": "julia",
   "version": "0.5.0"
  }
 },
 "nbformat": 4,
 "nbformat_minor": 0
}
