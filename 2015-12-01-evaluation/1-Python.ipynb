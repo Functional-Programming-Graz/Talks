{
 "metadata": {
  "name": ""
 },
 "nbformat": 3,
 "nbformat_minor": 0,
 "worksheets": [
  {
   "cells": [
    {
     "cell_type": "heading",
     "level": 2,
     "metadata": {},
     "source": [
      "Setup/Scenario"
     ]
    },
    {
     "cell_type": "markdown",
     "metadata": {},
     "source": [
      "Suppose we want to work with a library that uses exceptions to signify errors.  However, for some reason, we can't use the language's exception mechanism to propagate them; we want to explicitely handle returned exceptions ourselves.\n",
      "\n",
      "For this purpose, we can wrap function results in the following union class:"
     ]
    },
    {
     "cell_type": "code",
     "collapsed": false,
     "input": [
      "class ResultOrError:\n",
      "    def __init__(self, result, error):\n",
      "        self._result = result\n",
      "        self._error = error\n",
      "        \n",
      "    def __repr__(self):\n",
      "        if self.isResult:\n",
      "            return 'Result({})'.format(repr(self.result))\n",
      "        else:\n",
      "            return 'Error({})'.format(repr(self.error))\n",
      "    \n",
      "    def fold(self, onResult, onError = None):\n",
      "        if self.isResult:\n",
      "            return onResult(self.result)\n",
      "        elif onError is not None:\n",
      "            return onError(self.error)\n",
      "        else:\n",
      "            return None\n",
      "    \n",
      "    @property\n",
      "    def isResult(self):\n",
      "        return self._result is not None\n",
      "    \n",
      "    @property\n",
      "    def isError(self):\n",
      "        return self._error is not None\n",
      "    \n",
      "    @property\n",
      "    def result(self):\n",
      "        return self._result\n",
      "    \n",
      "    @property\n",
      "    def error(self):\n",
      "        return self._error\n",
      "        \n",
      "def Result(result):\n",
      "    return ResultOrError(result, None)\n",
      "    \n",
      "def Error(error):\n",
      "    return ResultOrError(None, error)"
     ],
     "language": "python",
     "metadata": {},
     "outputs": [],
     "prompt_number": 1
    },
    {
     "cell_type": "code",
     "collapsed": false,
     "input": [
      "r = Result(23)\n",
      "print(r)\n",
      "# print(r.fold(lambda x: x))"
     ],
     "language": "python",
     "metadata": {},
     "outputs": [
      {
       "output_type": "stream",
       "stream": "stdout",
       "text": [
        "Result(23)\n"
       ]
      }
     ],
     "prompt_number": 2
    },
    {
     "cell_type": "code",
     "collapsed": false,
     "input": [
      "e = Error(ValueError('wrong'))\n",
      "print(e)\n",
      "# print(e.fold(lambda x: x))\n",
      "# print(e.fold(lambda x: x, lambda e: \"Error!\"))"
     ],
     "language": "python",
     "metadata": {},
     "outputs": [
      {
       "output_type": "stream",
       "stream": "stdout",
       "text": [
        "Error(ValueError('wrong',))\n"
       ]
      }
     ],
     "prompt_number": 3
    },
    {
     "cell_type": "markdown",
     "metadata": {},
     "source": [
      "Now, this is all well.  Now, we might be tempted to write something like this:"
     ]
    },
    {
     "cell_type": "code",
     "collapsed": false,
     "input": [
      "def wrapExpr(expr):\n",
      "    try:\n",
      "        return Result(expr)\n",
      "    except Exception as e:\n",
      "        return Error(e)"
     ],
     "language": "python",
     "metadata": {},
     "outputs": [],
     "prompt_number": 4
    },
    {
     "cell_type": "markdown",
     "metadata": {},
     "source": [
      "And try it out:"
     ]
    },
    {
     "cell_type": "code",
     "collapsed": false,
     "input": [
      "wrapExpr(42 / 1)"
     ],
     "language": "python",
     "metadata": {},
     "outputs": [
      {
       "metadata": {},
       "output_type": "pyout",
       "prompt_number": 5,
       "text": [
        "Result(42.0)"
       ]
      }
     ],
     "prompt_number": 5
    },
    {
     "cell_type": "markdown",
     "metadata": {},
     "source": [
      "So far, so good..."
     ]
    },
    {
     "cell_type": "code",
     "collapsed": false,
     "input": [
      "wrapExpr(42 / 0)"
     ],
     "language": "python",
     "metadata": {},
     "outputs": [
      {
       "ename": "ZeroDivisionError",
       "evalue": "division by zero",
       "output_type": "pyerr",
       "traceback": [
        "\u001b[0;31m---------------------------------------------------------------------------\u001b[0m\n\u001b[0;31mZeroDivisionError\u001b[0m                         Traceback (most recent call last)",
        "\u001b[0;32m<ipython-input-6-58a51a6200b4>\u001b[0m in \u001b[0;36m<module>\u001b[0;34m()\u001b[0m\n\u001b[0;32m----> 1\u001b[0;31m \u001b[0mwrapExpr\u001b[0m\u001b[0;34m(\u001b[0m\u001b[0;36m42\u001b[0m \u001b[0;34m/\u001b[0m \u001b[0;36m0\u001b[0m\u001b[0;34m)\u001b[0m\u001b[0;34m\u001b[0m\u001b[0m\n\u001b[0m",
        "\u001b[0;31mZeroDivisionError\u001b[0m: division by zero"
       ]
      }
     ],
     "prompt_number": 6
    },
    {
     "cell_type": "markdown",
     "metadata": {},
     "source": [
      "Exactly _not_ what we wanted.  This is no wonder, since arguments in Python are always evaluated eagerly.  In fact, it is impossible to write a function that behaves like this (taking an unevaluated argument, and catching exceptions inside)."
     ]
    },
    {
     "cell_type": "heading",
     "level": 2,
     "metadata": {},
     "source": [
      "Preliminary Solution"
     ]
    },
    {
     "cell_type": "markdown",
     "metadata": {},
     "source": [
      "If we think about why the above variant didn't work, we find that the crucial thing was that we passed a _value_ (which gets evaluated at _before_ it is \"put into\" the function).  With that idea in mind, we can do the following, taking a function producing that value:"
     ]
    },
    {
     "cell_type": "code",
     "collapsed": false,
     "input": [
      "def wrapExpr(thunk):\n",
      "    try:\n",
      "        return Result(thunk()) # note the call operator on `thunk`!\n",
      "    except Exception as e:\n",
      "        return Error(e)"
     ],
     "language": "python",
     "metadata": {},
     "outputs": [],
     "prompt_number": 7
    },
    {
     "cell_type": "code",
     "collapsed": false,
     "input": [
      "wrapExpr(lambda: 42 / 0)"
     ],
     "language": "python",
     "metadata": {},
     "outputs": [
      {
       "metadata": {},
       "output_type": "pyout",
       "prompt_number": 8,
       "text": [
        "Error(ZeroDivisionError('division by zero',))"
       ]
      }
     ],
     "prompt_number": 8
    },
    {
     "cell_type": "markdown",
     "metadata": {},
     "source": [
      "Although, having to write `lambda` every time is not exactly practical..."
     ]
    }
   ],
   "metadata": {}
  }
 ]
}